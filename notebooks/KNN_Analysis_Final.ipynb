{
 "cells": [
  {
   "cell_type": "code",
   "execution_count": 116,
   "metadata": {},
   "outputs": [
    {
     "name": "stdout",
     "output_type": "stream",
     "text": [
      "     mastery      rank  result\n",
      "0    21079.8 -0.566667       1\n",
      "1    50198.2 -0.080000       0\n",
      "2  -909838.0 -0.080000       0\n",
      "3    28831.8 -0.416667       1\n",
      "4   -50030.4 -0.040000       0\n",
      "..       ...       ...     ...\n",
      "91   18262.6 -0.640000       0\n",
      "92  -75507.0 -0.160000       0\n",
      "93  294128.6  0.000000       0\n",
      "94 -122087.8 -0.040000       1\n",
      "95   65571.6 -0.240000       0\n",
      "\n",
      "[96 rows x 3 columns]\n",
      "\n",
      "\n",
      "number of samples:  96  games\n"
     ]
    }
   ],
   "source": [
    "import matplotlib.pyplot as plt\n",
    "import pandas as pd\n",
    "from sklearn.model_selection import train_test_split\n",
    "from sklearn.neighbors import KNeighborsClassifier\n",
    "from sklearn.model_selection import cross_val_score\n",
    "from sklearn.metrics import confusion_matrix, f1_score, classification_report, make_scorer\n",
    "\n",
    "# sample 1 and 2 were flawed due to bugs in the api scrapper\n",
    "\n",
    "data = pd.read_csv('../data/sample3/formatted3.csv')\n",
    "\n",
    "print(data)\n",
    "print(\"\\n\\nnumber of samples: \", len(data), \" games\")"
   ]
  },
  {
   "cell_type": "code",
   "execution_count": 117,
   "metadata": {},
   "outputs": [
    {
     "name": "stdout",
     "output_type": "stream",
     "text": [
      "0.3084152\n",
      "0.8800000000000003\n"
     ]
    }
   ],
   "source": [
    "# reduce scale of mastery points\n",
    "\n",
    "data['mastery'] = data['mastery'].apply(lambda x: x/1000000)\n",
    "\n",
    "print(max(data['mastery']))\n",
    "print(max(data['rank']))"
   ]
  },
  {
   "cell_type": "code",
   "execution_count": 137,
   "metadata": {},
   "outputs": [
    {
     "name": "stdout",
     "output_type": "stream",
     "text": [
      "\n"
     ]
    }
   ],
   "source": [
    "# I want inputs in the form of [[rank_1, rank_2, ..., rank_i], [mastery_1, mastery_2, ..., mastery_i]]\n",
    "# This way, I can predict a single game by giving my model [[rank],[mastery]]\n",
    "\n",
    "# formatting rank & mastery into 2D array\n",
    "\n",
    "inputs = []\n",
    "\n",
    "for item in data['rank']:\n",
    "    inputs.append([item, 0])\n",
    "    \n",
    "i = 0\n",
    "\n",
    "for item in data['mastery']:\n",
    "    inputs[i][1] = item\n",
    "    i += 1\n",
    "\n",
    "\n",
    "# splitting data into training and test set (50/50 split)\n",
    "\n",
    "targets = data['result']\n",
    "trainx, testx, trainy, testy = train_test_split(inputs, targets, test_size = 0.5)\n",
    "\n",
    "print()"
   ]
  },
  {
   "cell_type": "code",
   "execution_count": 150,
   "metadata": {},
   "outputs": [
    {
     "name": "stdout",
     "output_type": "stream",
     "text": [
      "\n"
     ]
    }
   ],
   "source": [
    "# applying knn algorithm on training with k = 5 \n",
    "# (classify a win/loss based on the 5 most similar games in terms of rank difference & mastery difference)\n",
    "\n",
    "k = 5\n",
    "\n",
    "model = KNeighborsClassifier(k) \n",
    "model.fit(trainx, trainy)\n",
    "\n",
    "print()"
   ]
  },
  {
   "cell_type": "code",
   "execution_count": 153,
   "metadata": {},
   "outputs": [
    {
     "name": "stdout",
     "output_type": "stream",
     "text": [
      "0.6458333333333334\n"
     ]
    }
   ],
   "source": [
    "# f1_score\n",
    "\n",
    "print(model.score(testx, testy))"
   ]
  },
  {
   "cell_type": "code",
   "execution_count": 154,
   "metadata": {},
   "outputs": [
    {
     "name": "stdout",
     "output_type": "stream",
     "text": [
      "[1]\n"
     ]
    }
   ],
   "source": [
    "# using model to predict the outcome of a single game (1 for win 0 for loss)\n",
    "\n",
    "print(model.predict([[0.3084152, -0.8800000000000003]]))"
   ]
  },
  {
   "cell_type": "code",
   "execution_count": 165,
   "metadata": {},
   "outputs": [
    {
     "name": "stdout",
     "output_type": "stream",
     "text": [
      "[1, 1, 1, 1, 0, 1, 1, 1, 0, 0, 0, 1, 0, 0, 0, 1, 0, 1, 1, 1, 1, 0, 0, 1, 0, 1, 1, 1, 0, 0, 0, 1, 1, 0, 1, 0, 0, 0, 1, 1, 1, 0, 1, 1, 1, 0, 1, 1, 0, 0, 1, 1, 1, 0, 1, 0, 1, 1, 1, 1, 1, 1, 1, 1, 1, 0, 0, 1, 0, 1, 0, 1, 1, 1, 1, 1, 1, 0, 1, 1, 1, 1, 0, 0, 1, 1, 1, 1, 1, 1, 1, 0, 0, 1, 0, 0]\n"
     ]
    }
   ],
   "source": [
    "# generate an array of how the model would classify each of the 96 games\n",
    "\n",
    "m = model.predict(inputs)\n",
    "predicted = []\n",
    "\n",
    "for a in m:\n",
    "    predicted.append(int(a))\n",
    "    \n",
    "print(predicted)"
   ]
  },
  {
   "cell_type": "code",
   "execution_count": 166,
   "metadata": {},
   "outputs": [],
   "source": [
    "# get points for a scatter plot into 1D arrays (x axis will be ranks, y axis will be mastery)\n",
    "\n",
    "ranks = []\n",
    "mastery = []\n",
    "\n",
    "for i,j in inputs:\n",
    "    ranks.append(i)\n",
    "    mastery.append(j)  "
   ]
  },
  {
   "cell_type": "code",
   "execution_count": 167,
   "metadata": {},
   "outputs": [],
   "source": [
    "# make a 2D table where columns are rank diff, mastery diff, predicted outcome\n",
    "\n",
    "x = []\n",
    "\n",
    "for i in range(len(ranks)):\n",
    "    x.append([ranks[i], mastery[i], predicted[i]])"
   ]
  },
  {
   "cell_type": "code",
   "execution_count": 168,
   "metadata": {},
   "outputs": [],
   "source": [
    "# split into two tables, a win table and a loss table\n",
    "# plot points (rank vs champ mastery) green if it was a win and red if it was a loss\n",
    "\n",
    "winx = []\n",
    "winy = []\n",
    "lossx = []\n",
    "lossy = []\n",
    "\n",
    "for row in x:\n",
    "    if row[2] == 1:\n",
    "        winx.append(row[0])\n",
    "        winy.append(row[1])\n",
    "    if row[2] == 0:\n",
    "        lossx.append(row[0])\n",
    "        lossy.append(row[1])"
   ]
  },
  {
   "cell_type": "code",
   "execution_count": 169,
   "metadata": {},
   "outputs": [
    {
     "name": "stdout",
     "output_type": "stream",
     "text": [
      "\n",
      " the knn classifcation model's predicted classification (win/loss) of the 96 games\n"
     ]
    },
    {
     "data": {
      "image/png": "[encoded data removed]",
      "text/plain": [
       "<Figure size 432x288 with 1 Axes>"
      ]
     },
     "metadata": {
      "needs_background": "light"
     },
     "output_type": "display_data"
    }
   ],
   "source": [
    "# plot figure with labled axis\n",
    "\n",
    "fig, ax = plt.subplots()\n",
    "\n",
    "ax.scatter(winx, winy, c='green', label='predicted win')\n",
    "ax.scatter(lossx, lossy, c='red', label='predicted loss')\n",
    "ax.set_title('predicted result of L.O.L games using rank & champion mastery')\n",
    "ax.set_xlabel(\"rank difference\")\n",
    "ax.set_ylabel(\"champion mastery difference\")\n",
    "plt.legend(loc=\"upper left\")\n",
    "\n",
    "x1 = [0 for i in range(300)]\n",
    "y1 = [i/100 for i in range(-100, 200)]\n",
    "\n",
    "ax.plot(x1, y1, c='black')\n",
    "\n",
    "y2 = [0 for i in range(250)]\n",
    "x2 = [i/100 for i in range(-150, 100)]\n",
    "\n",
    "ax.plot(x2, y2, c='black')\n",
    "print(\"\\n the knn classifcation model's predicted classification (win/loss) of the 96 games\")\n",
    "plt.show()"
   ]
  },
  {
   "cell_type": "code",
   "execution_count": 160,
   "metadata": {},
   "outputs": [],
   "source": [
    "# make a 2D table where columns are rank diff, mastery diff, actual outcome\n",
    "\n",
    "for i in range(len(ranks)):\n",
    "    x.append([ranks[i], mastery[i], targets[i]])"
   ]
  },
  {
   "cell_type": "code",
   "execution_count": 161,
   "metadata": {},
   "outputs": [],
   "source": [
    "# split into two tables, a win table and a loss table\n",
    "# plot points (rank vs champ mastery) green if it was a win and red if it was a loss\n",
    "\n",
    "winx = []\n",
    "winy = []\n",
    "lossx = []\n",
    "lossy = []\n",
    "\n",
    "for row in x:\n",
    "    if row[2] == 1:\n",
    "        winx.append(row[0])\n",
    "        winy.append(row[1])\n",
    "    if row[2] == 0:\n",
    "        lossx.append(row[0])\n",
    "        lossy.append(row[1])"
   ]
  },
  {
   "cell_type": "code",
   "execution_count": 163,
   "metadata": {},
   "outputs": [
    {
     "name": "stdout",
     "output_type": "stream",
     "text": [
      "\n",
      " the actual outcomes of the 96 sample games\n"
     ]
    },
    {
     "data": {
      "image/png": "[encoded data removed]",
      "text/plain": [
       "<Figure size 432x288 with 1 Axes>"
      ]
     },
     "metadata": {
      "needs_background": "light"
     },
     "output_type": "display_data"
    }
   ],
   "source": [
    "# plot figure with labled axis\n",
    "\n",
    "fig, ax = plt.subplots()\n",
    "ax.scatter(winx, winy, c='green', label='actual win')\n",
    "ax.scatter(lossx, lossy, c='red', label='actual loss')\n",
    "ax.set_title('actual result of L.O.L games using rank & champion mastery')\n",
    "ax.set_xlabel(\"rank difference\")\n",
    "ax.set_ylabel(\"champion mastery difference\")\n",
    "plt.legend(loc=\"upper left\")\n",
    "\n",
    "x1 = [0 for i in range(300)]\n",
    "y1 = [i/100 for i in range(-100, 200)]\n",
    "ax.plot(x1, y1, c='black')\n",
    "y2 = [0 for i in range(250)]\n",
    "x2 = [i/100 for i in range(-150, 100)]\n",
    "ax.plot(x2, y2, c='black')\n",
    "\n",
    "print(\"\\n the actual outcomes of the 96 sample games\")\n",
    "plt.show()"
   ]
  },
  {
   "cell_type": "code",
   "execution_count": 172,
   "metadata": {},
   "outputs": [
    {
     "name": "stdout",
     "output_type": "stream",
     "text": [
      "\n",
      "Five Itterations of cross validation:\n",
      "0.631578947368421 0.6666666666666666 0.7500000000000001 0.6086956521739131 0.6666666666666667 \n",
      "\n",
      "\n",
      "Model Accuracy: 0.66 (+/- 0.10)\n"
     ]
    }
   ],
   "source": [
    "# Perform generate cross validation on our model\n",
    "\n",
    "scores = cross_val_score(model, inputs, targets, cv = 5, scoring = make_scorer(f1_score, pos_label=1))\n",
    "\n",
    "print(\"\\nFive Itterations of cross validation:\")\n",
    "for i in scores:\n",
    "    print(i, end=' ')\n",
    "\n",
    "# Determine model accuracy over a confidence interval \n",
    "\n",
    "print(\"\\n\\n\")\n",
    "print(\"Model Accuracy: %0.2f (+/- %0.2f)\" % (scores.mean(), scores.std() * 2))"
   ]
  },
  {
   "cell_type": "code",
   "execution_count": 173,
   "metadata": {},
   "outputs": [
    {
     "name": "stdout",
     "output_type": "stream",
     "text": [
      "              precision    recall  f1-score   support\n",
      "\n",
      "           0       0.62      0.48      0.54        21\n",
      "           1       0.66      0.78      0.71        27\n",
      "\n",
      "    accuracy                           0.65        48\n",
      "   macro avg       0.64      0.63      0.63        48\n",
      "weighted avg       0.64      0.65      0.64        48\n",
      "\n"
     ]
    }
   ],
   "source": [
    "# Other validation metrics\n",
    "\n",
    "report = classification_report(testy, model.predict(testx))\n",
    "\n",
    "print(report)"
   ]
  }
 ],
 "metadata": {
  "kernelspec": {
   "display_name": "Python 3",
   "language": "python",
   "name": "python3"
  },
  "language_info": {
   "codemirror_mode": {
    "name": "ipython",
    "version": 3
   },
   "file_extension": ".py",
   "mimetype": "text/x-python",
   "name": "python",
   "nbconvert_exporter": "python",
   "pygments_lexer": "ipython3",
   "version": "3.8.5"
  }
 },
 "nbformat": 4,
 "nbformat_minor": 4
}
